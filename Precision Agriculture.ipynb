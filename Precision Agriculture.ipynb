{
 "cells": [
  {
   "cell_type": "markdown",
   "id": "afedd763-8d03-4f39-bfbc-d4d3a43a2254",
   "metadata": {},
   "source": [
    "<h2 style=\"color:blue\">Project Library Imports</h2>"
   ]
  },
  {
   "cell_type": "code",
   "execution_count": 1,
   "id": "35598504-8e8a-4ca3-86b9-d2da05e0d298",
   "metadata": {},
   "outputs": [
    {
     "ename": "ModuleNotFoundError",
     "evalue": "No module named 'ipympl'",
     "output_type": "error",
     "traceback": [
      "\u001b[1;31m---------------------------------------------------------------------------\u001b[0m",
      "\u001b[1;31mModuleNotFoundError\u001b[0m                       Traceback (most recent call last)",
      "Cell \u001b[1;32mIn[1], line 12\u001b[0m\n\u001b[0;32m      9\u001b[0m \u001b[38;5;66;03m# for interactivity\u001b[39;00m\n\u001b[0;32m     10\u001b[0m \u001b[38;5;28;01mfrom\u001b[39;00m \u001b[38;5;21;01mipywidgets\u001b[39;00m \u001b[38;5;28;01mimport\u001b[39;00m interact\n\u001b[1;32m---> 12\u001b[0m \u001b[43mget_ipython\u001b[49m\u001b[43m(\u001b[49m\u001b[43m)\u001b[49m\u001b[38;5;241;43m.\u001b[39;49m\u001b[43mrun_line_magic\u001b[49m\u001b[43m(\u001b[49m\u001b[38;5;124;43m'\u001b[39;49m\u001b[38;5;124;43mmatplotlib\u001b[39;49m\u001b[38;5;124;43m'\u001b[39;49m\u001b[43m,\u001b[49m\u001b[43m \u001b[49m\u001b[38;5;124;43m'\u001b[39;49m\u001b[38;5;124;43mwidget\u001b[39;49m\u001b[38;5;124;43m'\u001b[39;49m\u001b[43m)\u001b[49m\n\u001b[0;32m     14\u001b[0m \u001b[38;5;28;01mimport\u001b[39;00m \u001b[38;5;21;01mwarnings\u001b[39;00m\n\u001b[0;32m     15\u001b[0m \u001b[38;5;66;03m# Suppress all warnings\u001b[39;00m\n",
      "File \u001b[1;32m~\\AppData\\Local\\Programs\\Python\\Python311\\Lib\\site-packages\\IPython\\core\\interactiveshell.py:2432\u001b[0m, in \u001b[0;36mInteractiveShell.run_line_magic\u001b[1;34m(self, magic_name, line, _stack_depth)\u001b[0m\n\u001b[0;32m   2430\u001b[0m     kwargs[\u001b[38;5;124m'\u001b[39m\u001b[38;5;124mlocal_ns\u001b[39m\u001b[38;5;124m'\u001b[39m] \u001b[38;5;241m=\u001b[39m \u001b[38;5;28mself\u001b[39m\u001b[38;5;241m.\u001b[39mget_local_scope(stack_depth)\n\u001b[0;32m   2431\u001b[0m \u001b[38;5;28;01mwith\u001b[39;00m \u001b[38;5;28mself\u001b[39m\u001b[38;5;241m.\u001b[39mbuiltin_trap:\n\u001b[1;32m-> 2432\u001b[0m     result \u001b[38;5;241m=\u001b[39m \u001b[43mfn\u001b[49m\u001b[43m(\u001b[49m\u001b[38;5;241;43m*\u001b[39;49m\u001b[43margs\u001b[49m\u001b[43m,\u001b[49m\u001b[43m \u001b[49m\u001b[38;5;241;43m*\u001b[39;49m\u001b[38;5;241;43m*\u001b[39;49m\u001b[43mkwargs\u001b[49m\u001b[43m)\u001b[49m\n\u001b[0;32m   2434\u001b[0m \u001b[38;5;66;03m# The code below prevents the output from being displayed\u001b[39;00m\n\u001b[0;32m   2435\u001b[0m \u001b[38;5;66;03m# when using magics with decorator @output_can_be_silenced\u001b[39;00m\n\u001b[0;32m   2436\u001b[0m \u001b[38;5;66;03m# when the last Python token in the expression is a ';'.\u001b[39;00m\n\u001b[0;32m   2437\u001b[0m \u001b[38;5;28;01mif\u001b[39;00m \u001b[38;5;28mgetattr\u001b[39m(fn, magic\u001b[38;5;241m.\u001b[39mMAGIC_OUTPUT_CAN_BE_SILENCED, \u001b[38;5;28;01mFalse\u001b[39;00m):\n",
      "File \u001b[1;32m~\\AppData\\Local\\Programs\\Python\\Python311\\Lib\\site-packages\\IPython\\core\\magics\\pylab.py:99\u001b[0m, in \u001b[0;36mPylabMagics.matplotlib\u001b[1;34m(self, line)\u001b[0m\n\u001b[0;32m     97\u001b[0m     \u001b[38;5;28mprint\u001b[39m(\u001b[38;5;124m\"\u001b[39m\u001b[38;5;124mAvailable matplotlib backends: \u001b[39m\u001b[38;5;132;01m%s\u001b[39;00m\u001b[38;5;124m\"\u001b[39m \u001b[38;5;241m%\u001b[39m backends_list)\n\u001b[0;32m     98\u001b[0m \u001b[38;5;28;01melse\u001b[39;00m:\n\u001b[1;32m---> 99\u001b[0m     gui, backend \u001b[38;5;241m=\u001b[39m \u001b[38;5;28;43mself\u001b[39;49m\u001b[38;5;241;43m.\u001b[39;49m\u001b[43mshell\u001b[49m\u001b[38;5;241;43m.\u001b[39;49m\u001b[43menable_matplotlib\u001b[49m\u001b[43m(\u001b[49m\u001b[43margs\u001b[49m\u001b[38;5;241;43m.\u001b[39;49m\u001b[43mgui\u001b[49m\u001b[38;5;241;43m.\u001b[39;49m\u001b[43mlower\u001b[49m\u001b[43m(\u001b[49m\u001b[43m)\u001b[49m\u001b[43m \u001b[49m\u001b[38;5;28;43;01mif\u001b[39;49;00m\u001b[43m \u001b[49m\u001b[38;5;28;43misinstance\u001b[39;49m\u001b[43m(\u001b[49m\u001b[43margs\u001b[49m\u001b[38;5;241;43m.\u001b[39;49m\u001b[43mgui\u001b[49m\u001b[43m,\u001b[49m\u001b[43m \u001b[49m\u001b[38;5;28;43mstr\u001b[39;49m\u001b[43m)\u001b[49m\u001b[43m \u001b[49m\u001b[38;5;28;43;01melse\u001b[39;49;00m\u001b[43m \u001b[49m\u001b[43margs\u001b[49m\u001b[38;5;241;43m.\u001b[39;49m\u001b[43mgui\u001b[49m\u001b[43m)\u001b[49m\n\u001b[0;32m    100\u001b[0m     \u001b[38;5;28mself\u001b[39m\u001b[38;5;241m.\u001b[39m_show_matplotlib_backend(args\u001b[38;5;241m.\u001b[39mgui, backend)\n",
      "File \u001b[1;32m~\\AppData\\Local\\Programs\\Python\\Python311\\Lib\\site-packages\\IPython\\core\\interactiveshell.py:3621\u001b[0m, in \u001b[0;36mInteractiveShell.enable_matplotlib\u001b[1;34m(self, gui)\u001b[0m\n\u001b[0;32m   3617\u001b[0m         \u001b[38;5;28mprint\u001b[39m(\u001b[38;5;124m'\u001b[39m\u001b[38;5;124mWarning: Cannot change to a different GUI toolkit: \u001b[39m\u001b[38;5;132;01m%s\u001b[39;00m\u001b[38;5;124m.\u001b[39m\u001b[38;5;124m'\u001b[39m\n\u001b[0;32m   3618\u001b[0m                 \u001b[38;5;124m'\u001b[39m\u001b[38;5;124m Using \u001b[39m\u001b[38;5;132;01m%s\u001b[39;00m\u001b[38;5;124m instead.\u001b[39m\u001b[38;5;124m'\u001b[39m \u001b[38;5;241m%\u001b[39m (gui, \u001b[38;5;28mself\u001b[39m\u001b[38;5;241m.\u001b[39mpylab_gui_select))\n\u001b[0;32m   3619\u001b[0m         gui, backend \u001b[38;5;241m=\u001b[39m pt\u001b[38;5;241m.\u001b[39mfind_gui_and_backend(\u001b[38;5;28mself\u001b[39m\u001b[38;5;241m.\u001b[39mpylab_gui_select)\n\u001b[1;32m-> 3621\u001b[0m \u001b[43mpt\u001b[49m\u001b[38;5;241;43m.\u001b[39;49m\u001b[43mactivate_matplotlib\u001b[49m\u001b[43m(\u001b[49m\u001b[43mbackend\u001b[49m\u001b[43m)\u001b[49m\n\u001b[0;32m   3622\u001b[0m configure_inline_support(\u001b[38;5;28mself\u001b[39m, backend)\n\u001b[0;32m   3624\u001b[0m \u001b[38;5;66;03m# Now we must activate the gui pylab wants to use, and fix %run to take\u001b[39;00m\n\u001b[0;32m   3625\u001b[0m \u001b[38;5;66;03m# plot updates into account\u001b[39;00m\n",
      "File \u001b[1;32m~\\AppData\\Local\\Programs\\Python\\Python311\\Lib\\site-packages\\IPython\\core\\pylabtools.py:368\u001b[0m, in \u001b[0;36mactivate_matplotlib\u001b[1;34m(backend)\u001b[0m\n\u001b[0;32m    363\u001b[0m \u001b[38;5;66;03m# Due to circular imports, pyplot may be only partially initialised\u001b[39;00m\n\u001b[0;32m    364\u001b[0m \u001b[38;5;66;03m# when this function runs.\u001b[39;00m\n\u001b[0;32m    365\u001b[0m \u001b[38;5;66;03m# So avoid needing matplotlib attribute-lookup to access pyplot.\u001b[39;00m\n\u001b[0;32m    366\u001b[0m \u001b[38;5;28;01mfrom\u001b[39;00m \u001b[38;5;21;01mmatplotlib\u001b[39;00m \u001b[38;5;28;01mimport\u001b[39;00m pyplot \u001b[38;5;28;01mas\u001b[39;00m plt\n\u001b[1;32m--> 368\u001b[0m \u001b[43mplt\u001b[49m\u001b[38;5;241;43m.\u001b[39;49m\u001b[43mswitch_backend\u001b[49m\u001b[43m(\u001b[49m\u001b[43mbackend\u001b[49m\u001b[43m)\u001b[49m\n\u001b[0;32m    370\u001b[0m plt\u001b[38;5;241m.\u001b[39mshow\u001b[38;5;241m.\u001b[39m_needmain \u001b[38;5;241m=\u001b[39m \u001b[38;5;28;01mFalse\u001b[39;00m\n\u001b[0;32m    371\u001b[0m \u001b[38;5;66;03m# We need to detect at runtime whether show() is called by the user.\u001b[39;00m\n\u001b[0;32m    372\u001b[0m \u001b[38;5;66;03m# For this, we wrap it into a decorator which adds a 'called' flag.\u001b[39;00m\n",
      "File \u001b[1;32m~\\AppData\\Local\\Programs\\Python\\Python311\\Lib\\site-packages\\matplotlib\\pyplot.py:271\u001b[0m, in \u001b[0;36mswitch_backend\u001b[1;34m(newbackend)\u001b[0m\n\u001b[0;32m    268\u001b[0m \u001b[38;5;66;03m# have to escape the switch on access logic\u001b[39;00m\n\u001b[0;32m    269\u001b[0m old_backend \u001b[38;5;241m=\u001b[39m \u001b[38;5;28mdict\u001b[39m\u001b[38;5;241m.\u001b[39m\u001b[38;5;21m__getitem__\u001b[39m(rcParams, \u001b[38;5;124m'\u001b[39m\u001b[38;5;124mbackend\u001b[39m\u001b[38;5;124m'\u001b[39m)\n\u001b[1;32m--> 271\u001b[0m backend_mod \u001b[38;5;241m=\u001b[39m \u001b[43mimportlib\u001b[49m\u001b[38;5;241;43m.\u001b[39;49m\u001b[43mimport_module\u001b[49m\u001b[43m(\u001b[49m\n\u001b[0;32m    272\u001b[0m \u001b[43m    \u001b[49m\u001b[43mcbook\u001b[49m\u001b[38;5;241;43m.\u001b[39;49m\u001b[43m_backend_module_name\u001b[49m\u001b[43m(\u001b[49m\u001b[43mnewbackend\u001b[49m\u001b[43m)\u001b[49m\u001b[43m)\u001b[49m\n\u001b[0;32m    274\u001b[0m required_framework \u001b[38;5;241m=\u001b[39m _get_required_interactive_framework(backend_mod)\n\u001b[0;32m    275\u001b[0m \u001b[38;5;28;01mif\u001b[39;00m required_framework \u001b[38;5;129;01mis\u001b[39;00m \u001b[38;5;129;01mnot\u001b[39;00m \u001b[38;5;28;01mNone\u001b[39;00m:\n",
      "File \u001b[1;32m~\\AppData\\Local\\Programs\\Python\\Python311\\Lib\\importlib\\__init__.py:126\u001b[0m, in \u001b[0;36mimport_module\u001b[1;34m(name, package)\u001b[0m\n\u001b[0;32m    124\u001b[0m             \u001b[38;5;28;01mbreak\u001b[39;00m\n\u001b[0;32m    125\u001b[0m         level \u001b[38;5;241m+\u001b[39m\u001b[38;5;241m=\u001b[39m \u001b[38;5;241m1\u001b[39m\n\u001b[1;32m--> 126\u001b[0m \u001b[38;5;28;01mreturn\u001b[39;00m \u001b[43m_bootstrap\u001b[49m\u001b[38;5;241;43m.\u001b[39;49m\u001b[43m_gcd_import\u001b[49m\u001b[43m(\u001b[49m\u001b[43mname\u001b[49m\u001b[43m[\u001b[49m\u001b[43mlevel\u001b[49m\u001b[43m:\u001b[49m\u001b[43m]\u001b[49m\u001b[43m,\u001b[49m\u001b[43m \u001b[49m\u001b[43mpackage\u001b[49m\u001b[43m,\u001b[49m\u001b[43m \u001b[49m\u001b[43mlevel\u001b[49m\u001b[43m)\u001b[49m\n",
      "File \u001b[1;32m<frozen importlib._bootstrap>:1204\u001b[0m, in \u001b[0;36m_gcd_import\u001b[1;34m(name, package, level)\u001b[0m\n",
      "File \u001b[1;32m<frozen importlib._bootstrap>:1176\u001b[0m, in \u001b[0;36m_find_and_load\u001b[1;34m(name, import_)\u001b[0m\n",
      "File \u001b[1;32m<frozen importlib._bootstrap>:1126\u001b[0m, in \u001b[0;36m_find_and_load_unlocked\u001b[1;34m(name, import_)\u001b[0m\n",
      "File \u001b[1;32m<frozen importlib._bootstrap>:241\u001b[0m, in \u001b[0;36m_call_with_frames_removed\u001b[1;34m(f, *args, **kwds)\u001b[0m\n",
      "File \u001b[1;32m<frozen importlib._bootstrap>:1204\u001b[0m, in \u001b[0;36m_gcd_import\u001b[1;34m(name, package, level)\u001b[0m\n",
      "File \u001b[1;32m<frozen importlib._bootstrap>:1176\u001b[0m, in \u001b[0;36m_find_and_load\u001b[1;34m(name, import_)\u001b[0m\n",
      "File \u001b[1;32m<frozen importlib._bootstrap>:1140\u001b[0m, in \u001b[0;36m_find_and_load_unlocked\u001b[1;34m(name, import_)\u001b[0m\n",
      "\u001b[1;31mModuleNotFoundError\u001b[0m: No module named 'ipympl'"
     ]
    }
   ],
   "source": [
    "# for manipulations\n",
    "import numpy as np\n",
    "import pandas as pd\n",
    "\n",
    "# for data visualizations\n",
    "import matplotlib.pyplot as plt\n",
    "import seaborn as sns\n",
    "\n",
    "# for interactivity\n",
    "from ipywidgets import interact\n",
    "\n",
    "%matplotlib widget\n",
    "\n",
    "import warnings\n",
    "# Suppress all warnings\n",
    "warnings.filterwarnings(\"ignore\")\n",
    "\n",
    "#for machine learning processes\n",
    "from sklearn.cluster import KMeans\n",
    "from sklearn.metrics import classification_report\n",
    "from sklearn.model_selection import train_test_split\n",
    "\n",
    "# For Model Performance Evaluation\n",
    "from sklearn.metrics import confusion_matrix\n",
    "\n",
    "# For creating the Predictive Model\n",
    "\n",
    "from sklearn.linear_model import LogisticRegression"
   ]
  },
  {
   "cell_type": "markdown",
   "id": "603df21b-b235-4486-b433-45a510999fda",
   "metadata": {},
   "source": [
    "<h2 style=\"color:blue\">Exploratory Data Analysis (EDA)</h2>"
   ]
  },
  {
   "cell_type": "code",
   "execution_count": null,
   "id": "e4a2f449-ecdc-4a5c-b9a0-c5e6c9b27df3",
   "metadata": {},
   "outputs": [],
   "source": [
    "df = pd.read_csv(\"Data/Crop_recommendation.csv\")"
   ]
  },
  {
   "cell_type": "code",
   "execution_count": null,
   "id": "03b3a6a1-d41f-4022-8869-cdc361a29072",
   "metadata": {},
   "outputs": [],
   "source": [
    "df.head()"
   ]
  },
  {
   "cell_type": "code",
   "execution_count": null,
   "id": "720a7bf1-9009-4049-b883-4b185f2c2415",
   "metadata": {},
   "outputs": [],
   "source": [
    "df.shape"
   ]
  },
  {
   "cell_type": "code",
   "execution_count": null,
   "id": "7e75679d-cbea-486b-ada0-f55857da9fde",
   "metadata": {},
   "outputs": [],
   "source": [
    "df.info()"
   ]
  },
  {
   "cell_type": "code",
   "execution_count": null,
   "id": "82572af9-81cd-4071-9126-708dae693c6d",
   "metadata": {},
   "outputs": [],
   "source": [
    "df.describe()"
   ]
  },
  {
   "cell_type": "code",
   "execution_count": null,
   "id": "c47f8071-8e44-49c4-a00c-3ba551c237dd",
   "metadata": {},
   "outputs": [],
   "source": [
    "# Check for missing value\n",
    "df.isnull().sum()"
   ]
  },
  {
   "cell_type": "code",
   "execution_count": null,
   "id": "c9056164-05e8-49bb-bec9-0aabefad380c",
   "metadata": {},
   "outputs": [],
   "source": [
    "# check the Crops available in this dataset.\n",
    "# Will get the Unique column values.. with their count or occurance in the data observations.\n",
    "df.label.value_counts()"
   ]
  },
  {
   "cell_type": "code",
   "execution_count": null,
   "id": "4bbeae00-b0d7-4dd3-a6f3-b7ebc4c4dd77",
   "metadata": {},
   "outputs": [],
   "source": [
    "# Summary for all Crops.\n",
    "print(\"   Average Ratio of Nitrogen in the Soil : {0:.2f}\".format(df.N.mean()))\n",
    "print(\"Average Ratio of Phosphorous in the Soil : {0:.2f}\".format(df.P.mean()))\n",
    "print(\"  Average Ratio of Potassium in the Soil : {0:.2f}\".format(df.K.mean()))\n",
    "print(\"          Average Temperature in Celsius : {0:.2f}\".format(df.temperature.mean()))\n",
    "print(\"               Average Relative Humidity : {0:.2f}\".format(df['humidity'].mean()))\n",
    "print(\"            Average PH Value of the Soil : {0:.2f}\".format(df['ph'].mean()))\n",
    "print(\"                  Average Rainfall in mm : {0:.2f}\".format(df['rainfall'].mean()))"
   ]
  },
  {
   "cell_type": "code",
   "execution_count": null,
   "id": "ae11812b-f4fe-47c5-84ab-eead61ee513b",
   "metadata": {},
   "outputs": [],
   "source": [
    "# Summary Statistics for each of the Crops \n",
    "\n",
    "@interact\n",
    "def summary(crops = list(df['label'].value_counts().index)):\n",
    "    x = df[df['label'] == crops]\n",
    "    \n",
    "    print(\"-\"*30)\n",
    "    print(\"STatistics for Nitrogen\")\n",
    "    print(\"Minimum Nitrogen required : \", x['N'].min())\n",
    "    print(\"Average Nitrogen required : \", x['N'].mean())\n",
    "    print(\"Maxiumm Nitrogen required : \", x['N'].max())\n",
    "    \n",
    "    print(\"-\"*30)\n",
    "    print(\"STatistics for Phosphorous\")\n",
    "    print(\"Minimum Phosphorous required : \", x['P'].min())\n",
    "    print(\"Average Phosphorous required : \", x['P'].mean())\n",
    "    print(\"Maxiumm Phosphorous required : \", x['P'].max())\n",
    "    \n",
    "    print(\"-\"*30)\n",
    "    print(\"STatistics for Potassium\")\n",
    "    print(\"Minimum Potassium required : \", x['K'].min())\n",
    "    print(\"Average Potassium required : \", x['K'].mean())\n",
    "    print(\"Maxiumm Potassium required : \", x['K'].max())\n",
    "    \n",
    "    print(\"-\"*30)\n",
    "    print('Similar for other features')"
   ]
  },
  {
   "cell_type": "code",
   "execution_count": null,
   "id": "a52b426f-a37b-4c67-b33a-237ed5f52510",
   "metadata": {},
   "outputs": [],
   "source": [
    "def summary(crops):\n",
    "    x = df[df['label'] == crops]\n",
    "    \n",
    "    print(\"-\"*30)\n",
    "    print(\"STatistics for Nitrogen\")\n",
    "    print(\"Minimum Nitrogen required : \", x['N'].min())\n",
    "    print(\"Average Nitrogen required : \", x['N'].mean())\n",
    "    print(\"Maxiumm Nitrogen required : \", x['N'].max())\n",
    "    \n",
    "    print(\"-\"*30)\n",
    "    print(\"STatistics for Phosphorous\")\n",
    "    print(\"Minimum Phosphorous required : \", x['P'].min())\n",
    "    print(\"Average Phosphorous required : \", x['P'].mean())\n",
    "    print(\"Maxiumm Phosphorous required : \", x['P'].max())\n",
    "    \n",
    "    print(\"-\"*30)\n",
    "    print(\"STatistics for Potassium\")\n",
    "    print(\"Minimum Potassium required : \", x['K'].min())\n",
    "    print(\"Average Potassium required : \", x['K'].mean())\n",
    "    print(\"Maxiumm Potassium required : \", x['K'].max())\n",
    "    \n",
    "    print(\"-\"*30)\n",
    "    print('Similar for other features')\n",
    "    \n",
    "interact(summary, crops = list(df['label'].value_counts().index) ); "
   ]
  },
  {
   "cell_type": "code",
   "execution_count": null,
   "id": "3cb8fbdc-0572-485c-aebe-f46861b82d0c",
   "metadata": {},
   "outputs": [],
   "source": [
    "# Compare the Average Requirement fr each crops with average condition\n",
    "\n",
    "all_features = list(df.columns.values)\n",
    "# all_features = list(df.columns.values.tolist())\n",
    "# type(all_features)\n",
    "\n",
    "@interact\n",
    "def compare(conditions = all_features):\n",
    "    print(\"Average Value for \", conditions, \"is {0:.2f}\".format(df[conditions].mean()))\n",
    "    print('-'*40)\n",
    "    print(\"Rice  : {0:.2f}\".format(df[(df['label'] == 'rice')][conditions].mean()))\n",
    "    print(\"Mango : {0:.2f}\".format(df[(df['label'] == 'mango')][conditions].mean()))"
   ]
  },
  {
   "cell_type": "code",
   "execution_count": null,
   "id": "2bf90ef5-8b19-4ad1-b5cb-238cd172dcc2",
   "metadata": {},
   "outputs": [],
   "source": [
    "# Lets make this function more Intuitive\n",
    "\n",
    "@interact\n",
    "def compare(conditions = ['N', 'P', 'K', 'temperature','ph', 'rainfall']):\n",
    "    print(\"Crops which require greater than average\", conditions, '\\n')\n",
    "    print(df[df[conditions] > df[conditions].mean()]['label'].unique())\n",
    "    print('*'*40)\n",
    "    print(\"Crops which require less than avergae\", conditions, '\\n')\n",
    "    print(df[df[conditions] <= df[conditions].mean()]['label'].unique())"
   ]
  },
  {
   "cell_type": "markdown",
   "id": "4a599b6e-5eac-4901-9757-40510208ff3b",
   "metadata": {},
   "source": [
    "<h2 style=\"color:blue\">Distribution</h2>"
   ]
  },
  {
   "cell_type": "code",
   "execution_count": null,
   "id": "4464fd5b-86cb-4ccd-90bb-fbfeb1cae578",
   "metadata": {},
   "outputs": [],
   "source": [
    "plt.subplot(2,4,1)\n",
    "sns.distplot(df['N'], color = 'darkblue')\n",
    "plt.xlabel(\"Ratio of Nitrogen\", fontsize = 12)\n",
    "plt.grid()\n",
    "\n",
    "plt.subplot(2,4,2)\n",
    "sns.distplot(df['P'], color = 'darkblue')\n",
    "plt.xlabel(\"Ratio of Phosphorous\", fontsize = 12)\n",
    "plt.grid()\n",
    "\n",
    "\n",
    "plt.subplot(2,4,3)\n",
    "sns.distplot(df['K'], color = 'darkblue')\n",
    "plt.xlabel(\"Ratio of Potassium\", fontsize = 12)\n",
    "plt.grid()\n",
    "\n",
    "plt.subplot(2,4,4)\n",
    "sns.distplot(df['temperature'], color = 'black')\n",
    "plt.xlabel(\"Temperature\", fontsize = 12)\n",
    "plt.grid()\n",
    "\n",
    "plt.subplot(2,4,5)\n",
    "sns.distplot(df['rainfall'], color = 'grey')\n",
    "plt.xlabel(\"Rainfall\", fontsize = 12)\n",
    "plt.grid()\n",
    "\n",
    "plt.subplot(2,4,6)\n",
    "sns.distplot(df['humidity'], color = 'lightgreen')\n",
    "plt.xlabel(\"Humidity\", fontsize = 12)\n",
    "plt.grid()\n",
    "\n",
    "plt.subplot(2,4,7)\n",
    "sns.distplot(df['ph'], color = 'darkgreen')\n",
    "plt.xlabel(\"pH Level\", fontsize = 12)\n",
    "plt.grid()\n",
    "\n",
    "plt.suptitle(\"Distribution for Agriculture Conditions\", fontsize = 20)\n",
    "plt.show()"
   ]
  },
  {
   "cell_type": "code",
   "execution_count": null,
   "id": "8a9aa206-f848-458b-be1a-18271a548cdd",
   "metadata": {},
   "outputs": [],
   "source": [
    "## Lets find out some interesting facts\n",
    "\n",
    "print(\"   Crops which requires very high ratio of Nitrogen content in Soil : \", df[df['N'] > 120]['label'].unique())\n",
    "print(\"Crops which requires very high ratio of Phosphorous content in Soil : \", df[df['P'] > 100]['label'].unique())\n",
    "print(\"  Crops which requires very high ratio of Potassium content in Soil : \", df[df['K'] > 200]['label'].unique())\n",
    "print(\"                            Crops which requires very high Rainfall : \", df[df['rainfall'] > 200]['label'].unique())\n",
    "print(\"                          Crops which requires very low temperature : \", df[df['temperature'] < 10]['label'].unique())\n",
    "print(\"                         Crops which requires very high temperature : \", df[df['temperature'] > 40]['label'].unique())\n",
    "print(\"                             Crops which requires very low humidity : \", df[df['humidity'] < 20]['label'].unique())\n",
    "print(\"                                   Crops which requires very low ph : \", df[df['ph'] < 4]['label'].unique())\n",
    "print(\"                                  Crops which requires very high ph : \", df[df['ph'] > 9]['label'].unique())"
   ]
  },
  {
   "cell_type": "code",
   "execution_count": null,
   "id": "50fcca0d-fd62-4073-8f29-8c9a5d9178ab",
   "metadata": {},
   "outputs": [],
   "source": [
    "# Lets understand which crops can only be grown in SUmmer season; winter season; rainy season\n",
    "\n",
    "print(\"Summer Crops -->\")\n",
    "print(df[(df['temperature'] > 30) & (df['humidity'] > 50 )]['label'].unique())\n",
    "print('*'*50)\n",
    "\n",
    "print(\"Winter Crops -->\")\n",
    "print(df[(df['temperature'] < 20) & (df['humidity'] > 30 )]['label'].unique())\n",
    "print('*'*50)\n",
    "\n",
    "print(\"Rainy Crops -->\")\n",
    "print(df[(df['rainfall'] > 200) & (df['humidity'] > 30 )]['label'].unique())\n",
    "print('*'*50)"
   ]
  },
  {
   "cell_type": "markdown",
   "id": "0e748d9e-b42d-49af-996f-de09cb8c1874",
   "metadata": {},
   "source": [
    "<h2 style=\"color:blue\">Data Pre-processing and Modelling</h2>"
   ]
  },
  {
   "cell_type": "code",
   "execution_count": null,
   "id": "5e11b254-caec-4c6f-a7bd-9a29acdd5f58",
   "metadata": {},
   "outputs": [],
   "source": [
    "# Removing the label column\n",
    "X = df.drop(['label'], axis = 1)"
   ]
  },
  {
   "cell_type": "code",
   "execution_count": null,
   "id": "3e5b6443-66ae-45eb-beef-608bf6dccb23",
   "metadata": {},
   "outputs": [],
   "source": [
    "X.head()"
   ]
  },
  {
   "cell_type": "code",
   "execution_count": null,
   "id": "3bc48ea9-a47a-4a73-9220-e850294dc413",
   "metadata": {},
   "outputs": [],
   "source": [
    "# Selecting all the values.. output will be of ndarray.\n",
    "X = X.values"
   ]
  },
  {
   "cell_type": "code",
   "execution_count": null,
   "id": "ecb5de54-7897-4868-ac07-c0023e284544",
   "metadata": {},
   "outputs": [],
   "source": [
    "X[:2]"
   ]
  },
  {
   "cell_type": "code",
   "execution_count": null,
   "id": "78e6b307-9acc-49b4-aafa-5038c8b31aa5",
   "metadata": {},
   "outputs": [],
   "source": [
    "X.shape"
   ]
  },
  {
   "cell_type": "code",
   "execution_count": null,
   "id": "bd7eacd0-fc93-4d95-acaa-438c451385dc",
   "metadata": {},
   "outputs": [],
   "source": [
    "# Lets determine the optimum number of Clusters within the DataSet.\n",
    "# (WCSS) Means Within-Cluster Sum of Squares, a metric used in clustering algorithms, particularly in the context of K-means clustering. \n",
    "## The purpose of printing wcss is often to inspect or analyze the result of a clustering operation.\n",
    "\n",
    "plt.rcParams['figure.figsize'] = (10,4)\n",
    "\n",
    "wcss = []\n",
    "\n",
    "for i in range(1,11):\n",
    "    km = KMeans(n_clusters = i, init = 'k-means++', max_iter = 300, n_init = 10, random_state = 0)\n",
    "    km.fit(X)\n",
    "    wcss.append(km.inertia_)\n",
    "    print(\"Iteration \", i, \" Done.\")"
   ]
  },
  {
   "cell_type": "code",
   "execution_count": null,
   "id": "0226e8e7-29ab-4c4b-ba98-8ac9dbaba4c2",
   "metadata": {},
   "outputs": [],
   "source": [
    "print(wcss)"
   ]
  },
  {
   "cell_type": "code",
   "execution_count": null,
   "id": "0d67d71a-74cf-4c48-88a9-577d60e2d074",
   "metadata": {},
   "outputs": [],
   "source": [
    "plt.rcParams['figure.figsize'] = (10,4)\n",
    "\n",
    "# Lets plot the results\n",
    "plt.plot(range(1,11), wcss)\n",
    "plt.title(\"The Elbow Method\", fontsize = 20)\n",
    "plt.xlabel(\"No. of Clusters\")\n",
    "plt.ylabel(\"wcss\")\n",
    "plt.show()"
   ]
  },
  {
   "cell_type": "markdown",
   "id": "1691c4ba-133e-4271-b37b-2170cd507649",
   "metadata": {},
   "source": [
    "From above we see two elbow.. one at 3 and another at 4... but we can consider the last elbow.. so considering at 4.\n",
    "\n",
    "With this we can say that we have or need 4 clusters.\n",
    "\n",
    "Lets implement KMeans cluster."
   ]
  },
  {
   "cell_type": "code",
   "execution_count": null,
   "id": "cb24812f-1cfb-47c3-b4f1-056e5fa35bd5",
   "metadata": {},
   "outputs": [],
   "source": [
    "# Lets implement the K means algorithm to perform clustering analysis.\n",
    "\n",
    "km = KMeans(n_clusters = 4, init = 'k-means++', max_iter = 300, n_init = 10, random_state = 0)\n",
    "y_means = km.fit_predict(X)\n",
    "\n",
    "# Lets find out the Results\n",
    "a = df['label']\n",
    "y_means = pd.DataFrame(y_means)\n",
    "z = pd.concat([y_means, a], axis = 1)\n",
    "z = z.rename(columns = {0:'Cluster'})\n",
    "\n",
    "z.head()"
   ]
  },
  {
   "cell_type": "code",
   "execution_count": null,
   "id": "330eea17-c0e5-41f0-bae0-5892d1b3ee1e",
   "metadata": {},
   "outputs": [],
   "source": [
    "# Lets check the CLuster of each crops\n",
    "print(\"Lets check the Results After Applying the K Means Clustering Analysis \\n\")\n",
    "print(\"Crops in First Cluster : \", z[z['Cluster'] == 0]['label'].unique())\n",
    "print('-'*50)\n",
    "\n",
    "print(\"Crops in Second Cluster : \", z[z['Cluster'] == 1]['label'].unique())\n",
    "print('-'*50)\n",
    "\n",
    "print(\"Crops in Third Cluster : \", z[z['Cluster'] == 2]['label'].unique())\n",
    "print('-'*50)\n",
    "\n",
    "print(\"Crops in Fourth Cluster : \", z[z['Cluster'] == 3]['label'].unique())\n",
    "print('-'*50)"
   ]
  },
  {
   "cell_type": "code",
   "execution_count": null,
   "id": "e4dd0e85-dc02-416c-b9bf-5da4ff8ea6e1",
   "metadata": {},
   "outputs": [],
   "source": [
    "# Lets split the datase\n",
    "X = df.drop(['label'], axis = 1)\n",
    "y = df['label']\n",
    "\n",
    "X.shape, y.shape"
   ]
  },
  {
   "cell_type": "code",
   "execution_count": null,
   "id": "e5745bbd-763e-42dd-b967-6de2301a04ab",
   "metadata": {},
   "outputs": [],
   "source": [
    "X_train, X_valid, y_train, y_valid = train_test_split(X, y, test_size = .2, random_state = 0)"
   ]
  },
  {
   "cell_type": "code",
   "execution_count": null,
   "id": "9012b284-d2b2-4e30-8899-b2206ae474c9",
   "metadata": {},
   "outputs": [],
   "source": [
    "X_train.shape, X_valid.shape, y_train.shape, y_valid.shape"
   ]
  },
  {
   "cell_type": "code",
   "execution_count": null,
   "id": "b310e953-134d-4667-b706-50ef9ab0b57b",
   "metadata": {},
   "outputs": [],
   "source": [
    "# model = LogisticRegression(random_state=0, solver='lbfgs', multi_class='multinomial')\n",
    "# model = LogisticRegression(solver='lbfgs', multi_class='multinomial')\n",
    "model = LogisticRegression(solver='liblinear')\n",
    "model.fit(X_train, y_train)"
   ]
  },
  {
   "cell_type": "code",
   "execution_count": null,
   "id": "4a805b6a-bb37-433d-b5df-a626b4b1cf5d",
   "metadata": {},
   "outputs": [],
   "source": [
    "y_pred = model.predict(X_valid)"
   ]
  },
  {
   "cell_type": "code",
   "execution_count": null,
   "id": "e46a6e6b-fc86-44d5-9800-27cf58353ddc",
   "metadata": {},
   "outputs": [],
   "source": []
  },
  {
   "cell_type": "code",
   "execution_count": null,
   "id": "ebfb049d-05cb-40ba-8364-38d5a36c257b",
   "metadata": {},
   "outputs": [],
   "source": [
    "cm = confusion_matrix(y_valid, y_pred)\n",
    "sns.heatmap(cm, annot = True, cmap = 'YlGnBu')\n",
    "plt.title(\"Confusion Matrix for Logistic Regression\", fontsize = 15)\n",
    "plt.show()"
   ]
  },
  {
   "cell_type": "code",
   "execution_count": null,
   "id": "bedd9e21-2a2c-4840-975f-9e4d2df494f8",
   "metadata": {},
   "outputs": [],
   "source": [
    "# Lets print classification Report\n",
    "cr = classification_report(y_valid, y_pred)\n",
    "print(cr)"
   ]
  },
  {
   "cell_type": "markdown",
   "id": "5709ad4d-5606-46c2-8336-a17313e1f9ab",
   "metadata": {},
   "source": [
    "<h2 style=\"color:blue\">Predictions</h2>"
   ]
  },
  {
   "cell_type": "code",
   "execution_count": null,
   "id": "2f989c90-f85d-4c7e-a5bf-7dc2fac57e84",
   "metadata": {},
   "outputs": [],
   "source": [
    "pred = model.predict(\n",
    "    (\n",
    "        np.array(\n",
    "            [\n",
    "                [\n",
    "                    90,   # Value for N\n",
    "                    40,   # Value for P\n",
    "                    40,   # Value for K\n",
    "                    20,   # Value for Temp\n",
    "                    80,   # Value for Humidity\n",
    "                    7,    # Value for pH\n",
    "                    200   # Value for Rainfall\n",
    "                ]\n",
    "            ]\n",
    "        )\n",
    "    )\n",
    ")\n",
    "\n",
    "print(\"The Suggested Crop for Given Climatic Condition is: \", pred)"
   ]
  },
  {
   "cell_type": "code",
   "execution_count": null,
   "id": "40656c13-a0b1-4857-87c3-1a3a64645be4",
   "metadata": {},
   "outputs": [],
   "source": [
    "pred = model.predict(\n",
    "    (\n",
    "        np.array(\n",
    "            [\n",
    "                [\n",
    "                    89,   # Value for N\n",
    "                    60,   # Value for P\n",
    "                    17,   # Value for K\n",
    "                    25,   # Value for Temp\n",
    "                    57,   # Value for Humidity\n",
    "                    6,    # Value for pH\n",
    "                    100   # Value for Rainfall\n",
    "                ]\n",
    "            ]\n",
    "        )\n",
    "    )\n",
    ")\n",
    "\n",
    "print(\"The Suggested Crop for Given Climatic Condition is: \", pred)"
   ]
  },
  {
   "cell_type": "markdown",
   "id": "73d747a6-0449-4379-beb5-ad4be2de3e99",
   "metadata": {},
   "source": []
  }
 ],
 "metadata": {
  "kernelspec": {
   "display_name": "Python 3 (ipykernel)",
   "language": "python",
   "name": "python3"
  },
  "language_info": {
   "codemirror_mode": {
    "name": "ipython",
    "version": 3
   },
   "file_extension": ".py",
   "mimetype": "text/x-python",
   "name": "python",
   "nbconvert_exporter": "python",
   "pygments_lexer": "ipython3",
   "version": "3.11.5"
  }
 },
 "nbformat": 4,
 "nbformat_minor": 5
}
